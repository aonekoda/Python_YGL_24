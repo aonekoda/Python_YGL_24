{
 "cells": [
  {
   "cell_type": "markdown",
   "metadata": {
    "colab_type": "text",
    "id": "RtwfiAL3S1eD"
   },
   "source": [
    "# 판다스 데이터 분석\n",
    "---\n",
    "판다스의 group by와 피벗 테이블 기능을 사용하여 데이터 분석을 수행한다."
   ]
  },
  {
   "cell_type": "markdown",
   "metadata": {
    "colab_type": "text",
    "id": "ZVnvLhWaTXsN"
   },
   "source": [
    "필요한 패키지 로드하기"
   ]
  },
  {
   "cell_type": "code",
   "execution_count": 19,
   "metadata": {
    "colab": {},
    "colab_type": "code",
    "id": "ljvkCr3ySmCS"
   },
   "outputs": [],
   "source": [
    "%matplotlib inline\n",
    "import pandas as pd\n",
    "import numpy as np\n",
    "import matplotlib.pyplot as plt\n",
    "import matplotlib\n",
    "\n"
   ]
  },
  {
   "cell_type": "markdown",
   "metadata": {
    "colab_type": "text",
    "id": "Le7-BbH3TeMM"
   },
   "source": [
    "### 데이터 읽기\n",
    "* primary에는, 미국내 주 - 카운티 별,   각 정당, 후보자의 데이터 및 득표율 데이터  \n",
    "* counties라는 primary의 칼럼 중 fips라는 코드를 식별자를 하여, 각 유권자별 데이터가 나와있다."
   ]
  },
  {
   "cell_type": "code",
   "execution_count": 20,
   "metadata": {
    "colab": {
     "base_uri": "https://localhost:8080/",
     "height": 403
    },
    "colab_type": "code",
    "id": "cQHOpKnMTd1s",
    "outputId": "2be07fa3-8ad5-45e1-8a6c-c65ce0c530c4"
   },
   "outputs": [],
   "source": [
    "primary = pd.read_csv(\"../data/primary_results.csv\", sep=\",\")\n",
    "counties = pd.read_csv(\"../data/county_facts.csv\", sep=\",\")"
   ]
  },
  {
   "cell_type": "code",
   "execution_count": 21,
   "metadata": {
    "colab": {},
    "colab_type": "code",
    "id": "U3a4y31NT1iv"
   },
   "outputs": [
    {
     "data": {
      "text/html": [
       "<div>\n",
       "<style scoped>\n",
       "    .dataframe tbody tr th:only-of-type {\n",
       "        vertical-align: middle;\n",
       "    }\n",
       "\n",
       "    .dataframe tbody tr th {\n",
       "        vertical-align: top;\n",
       "    }\n",
       "\n",
       "    .dataframe thead th {\n",
       "        text-align: right;\n",
       "    }\n",
       "</style>\n",
       "<table border=\"1\" class=\"dataframe\">\n",
       "  <thead>\n",
       "    <tr style=\"text-align: right;\">\n",
       "      <th></th>\n",
       "      <th>state</th>\n",
       "      <th>state_abbreviation</th>\n",
       "      <th>county</th>\n",
       "      <th>fips</th>\n",
       "      <th>party</th>\n",
       "      <th>candidate</th>\n",
       "      <th>votes</th>\n",
       "      <th>fraction_votes</th>\n",
       "    </tr>\n",
       "  </thead>\n",
       "  <tbody>\n",
       "    <tr>\n",
       "      <th>0</th>\n",
       "      <td>Alabama</td>\n",
       "      <td>AL</td>\n",
       "      <td>Autauga</td>\n",
       "      <td>1001</td>\n",
       "      <td>Republican</td>\n",
       "      <td>Donald Trump</td>\n",
       "      <td>5387</td>\n",
       "      <td>0.445</td>\n",
       "    </tr>\n",
       "    <tr>\n",
       "      <th>1</th>\n",
       "      <td>Alabama</td>\n",
       "      <td>AL</td>\n",
       "      <td>Autauga</td>\n",
       "      <td>1001</td>\n",
       "      <td>Republican</td>\n",
       "      <td>Ted Cruz</td>\n",
       "      <td>2482</td>\n",
       "      <td>0.205</td>\n",
       "    </tr>\n",
       "    <tr>\n",
       "      <th>2</th>\n",
       "      <td>Alabama</td>\n",
       "      <td>AL</td>\n",
       "      <td>Autauga</td>\n",
       "      <td>1001</td>\n",
       "      <td>Republican</td>\n",
       "      <td>Marco Rubio</td>\n",
       "      <td>1785</td>\n",
       "      <td>0.148</td>\n",
       "    </tr>\n",
       "    <tr>\n",
       "      <th>3</th>\n",
       "      <td>Alabama</td>\n",
       "      <td>AL</td>\n",
       "      <td>Autauga</td>\n",
       "      <td>1001</td>\n",
       "      <td>Republican</td>\n",
       "      <td>Ben Carson</td>\n",
       "      <td>1764</td>\n",
       "      <td>0.146</td>\n",
       "    </tr>\n",
       "    <tr>\n",
       "      <th>4</th>\n",
       "      <td>Alabama</td>\n",
       "      <td>AL</td>\n",
       "      <td>Autauga</td>\n",
       "      <td>1001</td>\n",
       "      <td>Republican</td>\n",
       "      <td>John Kasich</td>\n",
       "      <td>421</td>\n",
       "      <td>0.035</td>\n",
       "    </tr>\n",
       "  </tbody>\n",
       "</table>\n",
       "</div>"
      ],
      "text/plain": [
       "     state state_abbreviation   county  fips       party     candidate  votes  \\\n",
       "0  Alabama                 AL  Autauga  1001  Republican  Donald Trump   5387   \n",
       "1  Alabama                 AL  Autauga  1001  Republican      Ted Cruz   2482   \n",
       "2  Alabama                 AL  Autauga  1001  Republican   Marco Rubio   1785   \n",
       "3  Alabama                 AL  Autauga  1001  Republican    Ben Carson   1764   \n",
       "4  Alabama                 AL  Autauga  1001  Republican   John Kasich    421   \n",
       "\n",
       "   fraction_votes  \n",
       "0           0.445  \n",
       "1           0.205  \n",
       "2           0.148  \n",
       "3           0.146  \n",
       "4           0.035  "
      ]
     },
     "execution_count": 21,
     "metadata": {},
     "output_type": "execute_result"
    }
   ],
   "source": [
    "primary.head()"
   ]
  },
  {
   "cell_type": "code",
   "execution_count": 22,
   "metadata": {
    "colab": {},
    "colab_type": "code",
    "id": "Cv5A9WFJT3R3"
   },
   "outputs": [
    {
     "data": {
      "text/html": [
       "<div>\n",
       "<style scoped>\n",
       "    .dataframe tbody tr th:only-of-type {\n",
       "        vertical-align: middle;\n",
       "    }\n",
       "\n",
       "    .dataframe tbody tr th {\n",
       "        vertical-align: top;\n",
       "    }\n",
       "\n",
       "    .dataframe thead th {\n",
       "        text-align: right;\n",
       "    }\n",
       "</style>\n",
       "<table border=\"1\" class=\"dataframe\">\n",
       "  <thead>\n",
       "    <tr style=\"text-align: right;\">\n",
       "      <th></th>\n",
       "      <th>fips</th>\n",
       "      <th>area_name</th>\n",
       "      <th>state_abbreviation</th>\n",
       "      <th>PST045214</th>\n",
       "      <th>PST040210</th>\n",
       "      <th>PST120214</th>\n",
       "      <th>POP010210</th>\n",
       "      <th>AGE135214</th>\n",
       "      <th>AGE295214</th>\n",
       "      <th>AGE775214</th>\n",
       "      <th>...</th>\n",
       "      <th>SBO415207</th>\n",
       "      <th>SBO015207</th>\n",
       "      <th>MAN450207</th>\n",
       "      <th>WTN220207</th>\n",
       "      <th>RTN130207</th>\n",
       "      <th>RTN131207</th>\n",
       "      <th>AFN120207</th>\n",
       "      <th>BPS030214</th>\n",
       "      <th>LND110210</th>\n",
       "      <th>POP060210</th>\n",
       "    </tr>\n",
       "  </thead>\n",
       "  <tbody>\n",
       "    <tr>\n",
       "      <th>0</th>\n",
       "      <td>0</td>\n",
       "      <td>United States</td>\n",
       "      <td>NaN</td>\n",
       "      <td>318857056</td>\n",
       "      <td>308758105</td>\n",
       "      <td>3.3</td>\n",
       "      <td>308745538</td>\n",
       "      <td>6.2</td>\n",
       "      <td>23.1</td>\n",
       "      <td>14.5</td>\n",
       "      <td>...</td>\n",
       "      <td>8.3</td>\n",
       "      <td>28.8</td>\n",
       "      <td>5319456312</td>\n",
       "      <td>4174286516</td>\n",
       "      <td>3917663456</td>\n",
       "      <td>12990</td>\n",
       "      <td>613795732</td>\n",
       "      <td>1046363</td>\n",
       "      <td>3531905.43</td>\n",
       "      <td>87.4</td>\n",
       "    </tr>\n",
       "    <tr>\n",
       "      <th>1</th>\n",
       "      <td>1000</td>\n",
       "      <td>Alabama</td>\n",
       "      <td>NaN</td>\n",
       "      <td>4849377</td>\n",
       "      <td>4780127</td>\n",
       "      <td>1.4</td>\n",
       "      <td>4779736</td>\n",
       "      <td>6.1</td>\n",
       "      <td>22.8</td>\n",
       "      <td>15.3</td>\n",
       "      <td>...</td>\n",
       "      <td>1.2</td>\n",
       "      <td>28.1</td>\n",
       "      <td>112858843</td>\n",
       "      <td>52252752</td>\n",
       "      <td>57344851</td>\n",
       "      <td>12364</td>\n",
       "      <td>6426342</td>\n",
       "      <td>13369</td>\n",
       "      <td>50645.33</td>\n",
       "      <td>94.4</td>\n",
       "    </tr>\n",
       "    <tr>\n",
       "      <th>2</th>\n",
       "      <td>1001</td>\n",
       "      <td>Autauga County</td>\n",
       "      <td>AL</td>\n",
       "      <td>55395</td>\n",
       "      <td>54571</td>\n",
       "      <td>1.5</td>\n",
       "      <td>54571</td>\n",
       "      <td>6.0</td>\n",
       "      <td>25.2</td>\n",
       "      <td>13.8</td>\n",
       "      <td>...</td>\n",
       "      <td>0.7</td>\n",
       "      <td>31.7</td>\n",
       "      <td>0</td>\n",
       "      <td>0</td>\n",
       "      <td>598175</td>\n",
       "      <td>12003</td>\n",
       "      <td>88157</td>\n",
       "      <td>131</td>\n",
       "      <td>594.44</td>\n",
       "      <td>91.8</td>\n",
       "    </tr>\n",
       "    <tr>\n",
       "      <th>3</th>\n",
       "      <td>1003</td>\n",
       "      <td>Baldwin County</td>\n",
       "      <td>AL</td>\n",
       "      <td>200111</td>\n",
       "      <td>182265</td>\n",
       "      <td>9.8</td>\n",
       "      <td>182265</td>\n",
       "      <td>5.6</td>\n",
       "      <td>22.2</td>\n",
       "      <td>18.7</td>\n",
       "      <td>...</td>\n",
       "      <td>1.3</td>\n",
       "      <td>27.3</td>\n",
       "      <td>1410273</td>\n",
       "      <td>0</td>\n",
       "      <td>2966489</td>\n",
       "      <td>17166</td>\n",
       "      <td>436955</td>\n",
       "      <td>1384</td>\n",
       "      <td>1589.78</td>\n",
       "      <td>114.6</td>\n",
       "    </tr>\n",
       "    <tr>\n",
       "      <th>4</th>\n",
       "      <td>1005</td>\n",
       "      <td>Barbour County</td>\n",
       "      <td>AL</td>\n",
       "      <td>26887</td>\n",
       "      <td>27457</td>\n",
       "      <td>-2.1</td>\n",
       "      <td>27457</td>\n",
       "      <td>5.7</td>\n",
       "      <td>21.2</td>\n",
       "      <td>16.5</td>\n",
       "      <td>...</td>\n",
       "      <td>0.0</td>\n",
       "      <td>27.0</td>\n",
       "      <td>0</td>\n",
       "      <td>0</td>\n",
       "      <td>188337</td>\n",
       "      <td>6334</td>\n",
       "      <td>0</td>\n",
       "      <td>8</td>\n",
       "      <td>884.88</td>\n",
       "      <td>31.0</td>\n",
       "    </tr>\n",
       "    <tr>\n",
       "      <th>...</th>\n",
       "      <td>...</td>\n",
       "      <td>...</td>\n",
       "      <td>...</td>\n",
       "      <td>...</td>\n",
       "      <td>...</td>\n",
       "      <td>...</td>\n",
       "      <td>...</td>\n",
       "      <td>...</td>\n",
       "      <td>...</td>\n",
       "      <td>...</td>\n",
       "      <td>...</td>\n",
       "      <td>...</td>\n",
       "      <td>...</td>\n",
       "      <td>...</td>\n",
       "      <td>...</td>\n",
       "      <td>...</td>\n",
       "      <td>...</td>\n",
       "      <td>...</td>\n",
       "      <td>...</td>\n",
       "      <td>...</td>\n",
       "      <td>...</td>\n",
       "    </tr>\n",
       "    <tr>\n",
       "      <th>3190</th>\n",
       "      <td>56037</td>\n",
       "      <td>Sweetwater County</td>\n",
       "      <td>WY</td>\n",
       "      <td>45010</td>\n",
       "      <td>43806</td>\n",
       "      <td>2.7</td>\n",
       "      <td>43806</td>\n",
       "      <td>7.3</td>\n",
       "      <td>27.0</td>\n",
       "      <td>9.5</td>\n",
       "      <td>...</td>\n",
       "      <td>3.8</td>\n",
       "      <td>27.2</td>\n",
       "      <td>0</td>\n",
       "      <td>437493</td>\n",
       "      <td>898189</td>\n",
       "      <td>22843</td>\n",
       "      <td>150439</td>\n",
       "      <td>227</td>\n",
       "      <td>10426.65</td>\n",
       "      <td>4.2</td>\n",
       "    </tr>\n",
       "    <tr>\n",
       "      <th>3191</th>\n",
       "      <td>56039</td>\n",
       "      <td>Teton County</td>\n",
       "      <td>WY</td>\n",
       "      <td>22930</td>\n",
       "      <td>21294</td>\n",
       "      <td>7.7</td>\n",
       "      <td>21294</td>\n",
       "      <td>5.7</td>\n",
       "      <td>19.1</td>\n",
       "      <td>12.2</td>\n",
       "      <td>...</td>\n",
       "      <td>3.3</td>\n",
       "      <td>25.3</td>\n",
       "      <td>0</td>\n",
       "      <td>0</td>\n",
       "      <td>515644</td>\n",
       "      <td>25688</td>\n",
       "      <td>327363</td>\n",
       "      <td>145</td>\n",
       "      <td>3995.38</td>\n",
       "      <td>5.3</td>\n",
       "    </tr>\n",
       "    <tr>\n",
       "      <th>3192</th>\n",
       "      <td>56041</td>\n",
       "      <td>Uinta County</td>\n",
       "      <td>WY</td>\n",
       "      <td>20904</td>\n",
       "      <td>21118</td>\n",
       "      <td>-1.0</td>\n",
       "      <td>21118</td>\n",
       "      <td>7.6</td>\n",
       "      <td>29.8</td>\n",
       "      <td>11.0</td>\n",
       "      <td>...</td>\n",
       "      <td>2.2</td>\n",
       "      <td>15.9</td>\n",
       "      <td>0</td>\n",
       "      <td>159375</td>\n",
       "      <td>413983</td>\n",
       "      <td>20626</td>\n",
       "      <td>35497</td>\n",
       "      <td>40</td>\n",
       "      <td>2081.26</td>\n",
       "      <td>10.1</td>\n",
       "    </tr>\n",
       "    <tr>\n",
       "      <th>3193</th>\n",
       "      <td>56043</td>\n",
       "      <td>Washakie County</td>\n",
       "      <td>WY</td>\n",
       "      <td>8322</td>\n",
       "      <td>8533</td>\n",
       "      <td>-2.5</td>\n",
       "      <td>8533</td>\n",
       "      <td>5.5</td>\n",
       "      <td>23.9</td>\n",
       "      <td>20.1</td>\n",
       "      <td>...</td>\n",
       "      <td>0.0</td>\n",
       "      <td>26.9</td>\n",
       "      <td>0</td>\n",
       "      <td>12128</td>\n",
       "      <td>98308</td>\n",
       "      <td>12596</td>\n",
       "      <td>10175</td>\n",
       "      <td>4</td>\n",
       "      <td>2238.55</td>\n",
       "      <td>3.8</td>\n",
       "    </tr>\n",
       "    <tr>\n",
       "      <th>3194</th>\n",
       "      <td>56045</td>\n",
       "      <td>Weston County</td>\n",
       "      <td>WY</td>\n",
       "      <td>7201</td>\n",
       "      <td>7208</td>\n",
       "      <td>-0.1</td>\n",
       "      <td>7208</td>\n",
       "      <td>6.5</td>\n",
       "      <td>21.6</td>\n",
       "      <td>18.1</td>\n",
       "      <td>...</td>\n",
       "      <td>0.0</td>\n",
       "      <td>29.3</td>\n",
       "      <td>0</td>\n",
       "      <td>11540</td>\n",
       "      <td>64312</td>\n",
       "      <td>9395</td>\n",
       "      <td>7520</td>\n",
       "      <td>1</td>\n",
       "      <td>2398.09</td>\n",
       "      <td>3.0</td>\n",
       "    </tr>\n",
       "  </tbody>\n",
       "</table>\n",
       "<p>3195 rows × 54 columns</p>\n",
       "</div>"
      ],
      "text/plain": [
       "       fips          area_name state_abbreviation  PST045214  PST040210  \\\n",
       "0         0      United States                NaN  318857056  308758105   \n",
       "1      1000            Alabama                NaN    4849377    4780127   \n",
       "2      1001     Autauga County                 AL      55395      54571   \n",
       "3      1003     Baldwin County                 AL     200111     182265   \n",
       "4      1005     Barbour County                 AL      26887      27457   \n",
       "...     ...                ...                ...        ...        ...   \n",
       "3190  56037  Sweetwater County                 WY      45010      43806   \n",
       "3191  56039       Teton County                 WY      22930      21294   \n",
       "3192  56041       Uinta County                 WY      20904      21118   \n",
       "3193  56043    Washakie County                 WY       8322       8533   \n",
       "3194  56045      Weston County                 WY       7201       7208   \n",
       "\n",
       "      PST120214  POP010210  AGE135214  AGE295214  AGE775214  ...  SBO415207  \\\n",
       "0           3.3  308745538        6.2       23.1       14.5  ...        8.3   \n",
       "1           1.4    4779736        6.1       22.8       15.3  ...        1.2   \n",
       "2           1.5      54571        6.0       25.2       13.8  ...        0.7   \n",
       "3           9.8     182265        5.6       22.2       18.7  ...        1.3   \n",
       "4          -2.1      27457        5.7       21.2       16.5  ...        0.0   \n",
       "...         ...        ...        ...        ...        ...  ...        ...   \n",
       "3190        2.7      43806        7.3       27.0        9.5  ...        3.8   \n",
       "3191        7.7      21294        5.7       19.1       12.2  ...        3.3   \n",
       "3192       -1.0      21118        7.6       29.8       11.0  ...        2.2   \n",
       "3193       -2.5       8533        5.5       23.9       20.1  ...        0.0   \n",
       "3194       -0.1       7208        6.5       21.6       18.1  ...        0.0   \n",
       "\n",
       "      SBO015207   MAN450207   WTN220207   RTN130207  RTN131207  AFN120207  \\\n",
       "0          28.8  5319456312  4174286516  3917663456      12990  613795732   \n",
       "1          28.1   112858843    52252752    57344851      12364    6426342   \n",
       "2          31.7           0           0      598175      12003      88157   \n",
       "3          27.3     1410273           0     2966489      17166     436955   \n",
       "4          27.0           0           0      188337       6334          0   \n",
       "...         ...         ...         ...         ...        ...        ...   \n",
       "3190       27.2           0      437493      898189      22843     150439   \n",
       "3191       25.3           0           0      515644      25688     327363   \n",
       "3192       15.9           0      159375      413983      20626      35497   \n",
       "3193       26.9           0       12128       98308      12596      10175   \n",
       "3194       29.3           0       11540       64312       9395       7520   \n",
       "\n",
       "      BPS030214   LND110210  POP060210  \n",
       "0       1046363  3531905.43       87.4  \n",
       "1         13369    50645.33       94.4  \n",
       "2           131      594.44       91.8  \n",
       "3          1384     1589.78      114.6  \n",
       "4             8      884.88       31.0  \n",
       "...         ...         ...        ...  \n",
       "3190        227    10426.65        4.2  \n",
       "3191        145     3995.38        5.3  \n",
       "3192         40     2081.26       10.1  \n",
       "3193          4     2238.55        3.8  \n",
       "3194          1     2398.09        3.0  \n",
       "\n",
       "[3195 rows x 54 columns]"
      ]
     },
     "execution_count": 22,
     "metadata": {},
     "output_type": "execute_result"
    }
   ],
   "source": [
    "counties"
   ]
  },
  {
   "cell_type": "code",
   "execution_count": 23,
   "metadata": {
    "colab": {},
    "colab_type": "code",
    "id": "xpFWPOy2T-uT"
   },
   "outputs": [
    {
     "data": {
      "text/plain": [
       "Index(['state', 'state_abbreviation', 'county', 'fips', 'party', 'candidate',\n",
       "       'votes', 'fraction_votes'],\n",
       "      dtype='object')"
      ]
     },
     "execution_count": 23,
     "metadata": {},
     "output_type": "execute_result"
    }
   ],
   "source": [
    "primary.columns"
   ]
  },
  {
   "cell_type": "code",
   "execution_count": 24,
   "metadata": {
    "colab": {},
    "colab_type": "code",
    "id": "k8r0E3ECUGXX"
   },
   "outputs": [
    {
     "data": {
      "text/plain": [
       "Index(['fips', 'area_name', 'state_abbreviation', 'PST045214', 'PST040210',\n",
       "       'PST120214', 'POP010210', 'AGE135214', 'AGE295214', 'AGE775214',\n",
       "       'SEX255214', 'RHI125214', 'RHI225214', 'RHI325214', 'RHI425214',\n",
       "       'RHI525214', 'RHI625214', 'RHI725214', 'RHI825214', 'POP715213',\n",
       "       'POP645213', 'POP815213', 'EDU635213', 'EDU685213', 'VET605213',\n",
       "       'LFE305213', 'HSG010214', 'HSG445213', 'HSG096213', 'HSG495213',\n",
       "       'HSD410213', 'HSD310213', 'INC910213', 'INC110213', 'PVY020213',\n",
       "       'BZA010213', 'BZA110213', 'BZA115213', 'NES010213', 'SBO001207',\n",
       "       'SBO315207', 'SBO115207', 'SBO215207', 'SBO515207', 'SBO415207',\n",
       "       'SBO015207', 'MAN450207', 'WTN220207', 'RTN130207', 'RTN131207',\n",
       "       'AFN120207', 'BPS030214', 'LND110210', 'POP060210'],\n",
       "      dtype='object')"
      ]
     },
     "execution_count": 24,
     "metadata": {},
     "output_type": "execute_result"
    }
   ],
   "source": [
    "counties.columns"
   ]
  },
  {
   "cell_type": "code",
   "execution_count": 25,
   "metadata": {
    "colab": {},
    "colab_type": "code",
    "id": "IuR2EBZcUKT3"
   },
   "outputs": [
    {
     "data": {
      "text/plain": [
       "(13212, 8)"
      ]
     },
     "execution_count": 25,
     "metadata": {},
     "output_type": "execute_result"
    }
   ],
   "source": [
    "primary.shape"
   ]
  },
  {
   "cell_type": "code",
   "execution_count": 26,
   "metadata": {
    "colab": {},
    "colab_type": "code",
    "id": "xoukBWDKUMEW"
   },
   "outputs": [
    {
     "data": {
      "text/plain": [
       "(3195, 54)"
      ]
     },
     "execution_count": 26,
     "metadata": {},
     "output_type": "execute_result"
    }
   ],
   "source": [
    "counties.shape"
   ]
  },
  {
   "cell_type": "markdown",
   "metadata": {
    "colab_type": "text",
    "id": "eTHqz5K8UQWf"
   },
   "source": [
    "### 각 후보별 전체지역 득표수\n",
    "primary 전체 DataFrame에 대해서 groupby()를 할 것인데, 기준열이 candidate열 이다.  \n",
    "\n",
    "각 후보별로 데이터를 계산하므로,groupby()의 기준열로 쓰면, 각 성분인 후보들을 기준으로 데이터가 그룹화되서 계산할 수 있다.\n",
    "\n",
    "그룹화된 결과물에서 DataFrame 전체가 아니고, votes열만 필요하므로, 그룹화된 결과물에 열인덱싱 처리를 해준다.\n",
    "\n",
    "마지막으로, 득표수를 계산하려면, 그룹별로 votes열의 합을 구해야하기 때문에 sum()함수를 적용한다."
   ]
  },
  {
   "cell_type": "code",
   "execution_count": 27,
   "metadata": {
    "colab": {},
    "colab_type": "code",
    "id": "DM85aeqQUwps"
   },
   "outputs": [
    {
     "data": {
      "text/plain": [
       "candidate\n",
       " No Preference         313\n",
       " Uncommitted            43\n",
       "Ben Carson          528463\n",
       "Bernie Sanders     4740278\n",
       "Carly Fiorina        15181\n",
       "Chris Christie       24347\n",
       "Donald Trump       6944654\n",
       "Hillary Clinton    7178257\n",
       "Jeb Bush             94394\n",
       "John Kasich        2456406\n",
       "Marco Rubio        2998335\n",
       "Martin O'Malley        747\n",
       "Mike Huckabee         3300\n",
       "Rand Paul             8460\n",
       "Rick Santorum         1773\n",
       "Ted Cruz           5248807\n",
       "Name: votes, dtype: int64"
      ]
     },
     "execution_count": 27,
     "metadata": {},
     "output_type": "execute_result"
    }
   ],
   "source": [
    "primary.groupby(\"candidate\")[\"votes\"].sum()"
   ]
  },
  {
   "cell_type": "code",
   "execution_count": 28,
   "metadata": {
    "colab": {},
    "colab_type": "code",
    "id": "T_A6aI_BUynx"
   },
   "outputs": [],
   "source": [
    "candidate_to_votes_s = primary.groupby(\"candidate\")[\"votes\"].sum().sort_values()"
   ]
  },
  {
   "cell_type": "code",
   "execution_count": 29,
   "metadata": {
    "colab": {},
    "colab_type": "code",
    "id": "OB1AKz4kU55d"
   },
   "outputs": [
    {
     "data": {
      "text/plain": [
       "candidate\n",
       " Uncommitted            43\n",
       " No Preference         313\n",
       "Martin O'Malley        747\n",
       "Rick Santorum         1773\n",
       "Mike Huckabee         3300\n",
       "Rand Paul             8460\n",
       "Carly Fiorina        15181\n",
       "Chris Christie       24347\n",
       "Jeb Bush             94394\n",
       "Ben Carson          528463\n",
       "John Kasich        2456406\n",
       "Marco Rubio        2998335\n",
       "Bernie Sanders     4740278\n",
       "Ted Cruz           5248807\n",
       "Donald Trump       6944654\n",
       "Hillary Clinton    7178257\n",
       "Name: votes, dtype: int64"
      ]
     },
     "execution_count": 29,
     "metadata": {},
     "output_type": "execute_result"
    }
   ],
   "source": [
    "candidate_to_votes_s"
   ]
  },
  {
   "cell_type": "markdown",
   "metadata": {
    "colab_type": "text",
    "id": "Pcmc1g_5U8mW"
   },
   "source": [
    "후보별 전체지역 득표수을 정렬한 것을, 수평 바 plot으로 나타내자."
   ]
  },
  {
   "cell_type": "code",
   "execution_count": 30,
   "metadata": {
    "colab": {},
    "colab_type": "code",
    "id": "N_lEeMX3U9hB"
   },
   "outputs": [
    {
     "data": {
      "text/plain": [
       "<matplotlib.axes._subplots.AxesSubplot at 0x1c6b7679a90>"
      ]
     },
     "execution_count": 30,
     "metadata": {},
     "output_type": "execute_result"
    },
    {
     "data": {
      "image/png": "[encoded data removed]",
      "text/plain": [
       "<Figure size 432x288 with 1 Axes>"
      ]
     },
     "metadata": {
      "needs_background": "light"
     },
     "output_type": "display_data"
    }
   ],
   "source": [
    "candidate_to_votes_s.plot(kind=\"barh\", fontsize=8)"
   ]
  },
  {
   "cell_type": "markdown",
   "metadata": {
    "colab_type": "text",
    "id": "6lC8mZfWVDb9"
   },
   "source": [
    "### 각 주별, 공화당과 민주당의, 득표비율 계산\n",
    "\n"
   ]
  },
  {
   "cell_type": "code",
   "execution_count": 31,
   "metadata": {
    "colab": {},
    "colab_type": "code",
    "id": "lslKBs1bVMGh"
   },
   "outputs": [],
   "source": [
    "# 데이터그룹화의 기준열을 state, party순으로 주어서, 각 주별 – 공화당/민주당 – 득표수(합)을 계산해보자.\n",
    "state_party_votes_s = primary.groupby( [\"state\",\"party\"] ) [\"votes\"].sum()"
   ]
  },
  {
   "cell_type": "code",
   "execution_count": 32,
   "metadata": {
    "colab": {},
    "colab_type": "code",
    "id": "TuQtZgb1VRbp"
   },
   "outputs": [],
   "source": [
    "# 비율을 구하기 위해서, 각 주의 전체 득표수를 나누어줘야한다.\n",
    "state_to_votes_s = primary.groupby(\"state\")[\"votes\"].sum()"
   ]
  },
  {
   "cell_type": "code",
   "execution_count": 33,
   "metadata": {
    "colab": {},
    "colab_type": "code",
    "id": "najWpF56Vnjp"
   },
   "outputs": [
    {
     "data": {
      "text/plain": [
       "state     party     \n",
       "Alabama   Democrat      0.321491\n",
       "          Republican    0.678509\n",
       "Arizona   Democrat      0.478419\n",
       "          Republican    0.521581\n",
       "Arkansas  Democrat      0.343990\n",
       "Name: votes, dtype: float64"
      ]
     },
     "execution_count": 33,
     "metadata": {},
     "output_type": "execute_result"
    }
   ],
   "source": [
    "state_party_to_vote_pcts_s = state_party_votes_s / state_to_votes_s\n",
    "state_party_to_vote_pcts_s.head()"
   ]
  },
  {
   "cell_type": "markdown",
   "metadata": {
    "colab_type": "text",
    "id": "1qAaFqNZVrOy"
   },
   "source": [
    "이제 비율을 바탕으로 bar plot을 그려보자."
   ]
  },
  {
   "cell_type": "code",
   "execution_count": 34,
   "metadata": {
    "colab": {},
    "colab_type": "code",
    "id": "n05-KVqFVsnm"
   },
   "outputs": [
    {
     "data": {
      "text/plain": [
       "<matplotlib.axes._subplots.AxesSubplot at 0x1c6b9d39358>"
      ]
     },
     "execution_count": 34,
     "metadata": {},
     "output_type": "execute_result"
    },
    {
     "data": {
      "image/png": "[encoded data removed]",
      "text/plain": [
       "<Figure size 432x288 with 1 Axes>"
      ]
     },
     "metadata": {
      "needs_background": "light"
     },
     "output_type": "display_data"
    }
   ],
   "source": [
    "state_party_to_vote_pcts_s.unstack().plot(kind=\"barh\", stacked=True, fontsize=8)"
   ]
  },
  {
   "cell_type": "markdown",
   "metadata": {
    "colab_type": "text",
    "id": "shylj5bfWK9_"
   },
   "source": [
    "### 피벗 테이블(pivot_table)로 데이터 분석하기\n",
    "각 주별, 당선자들의, 득표수, 총합\n",
    "\n",
    "\n",
    "* primary라는 df에, 피컷테이블함수를 적용시키는데,\n",
    "* values = 통계함수를 적용할 df의 특정열\n",
    "* index = 그룹화의 1번째 기준이면서, 피벗테이블(df)의 index로 가져올 primary의 특정열\n",
    "* columns = 그룹화의 2번째 기준이면서, 피벗테이블(df)의 columns로 가져올 primary의 특정열\n",
    "* aggfunc = 2개의 그룹화기준을 가지고 values에 들어간 특정열에 적용시킬 통계함수를 문자열로 표현\n",
    "* fill_value=0  NaN을 0으로 처리"
   ]
  },
  {
   "cell_type": "code",
   "execution_count": 35,
   "metadata": {
    "colab": {},
    "colab_type": "code",
    "id": "v3a5UIkwWTSB"
   },
   "outputs": [],
   "source": [
    "total_votes = primary.pivot_table( values = \"votes\" , index=\"state\" , columns =\"candidate\", aggfunc=\"sum\", fill_value=0 )"
   ]
  },
  {
   "cell_type": "markdown",
   "metadata": {
    "colab_type": "text",
    "id": "RacOn8rrWyGf"
   },
   "source": [
    "각 주별(축약어), 정당들의, 득표율, 평균"
   ]
  },
  {
   "cell_type": "code",
   "execution_count": 36,
   "metadata": {
    "colab": {},
    "colab_type": "code",
    "id": "2N6T082qWzEL"
   },
   "outputs": [
    {
     "data": {
      "text/html": [
       "<div>\n",
       "<style scoped>\n",
       "    .dataframe tbody tr th:only-of-type {\n",
       "        vertical-align: middle;\n",
       "    }\n",
       "\n",
       "    .dataframe tbody tr th {\n",
       "        vertical-align: top;\n",
       "    }\n",
       "\n",
       "    .dataframe thead th {\n",
       "        text-align: right;\n",
       "    }\n",
       "</style>\n",
       "<table border=\"1\" class=\"dataframe\">\n",
       "  <thead>\n",
       "    <tr style=\"text-align: right;\">\n",
       "      <th>party</th>\n",
       "      <th>Democrat</th>\n",
       "      <th>Republican</th>\n",
       "    </tr>\n",
       "    <tr>\n",
       "      <th>state_abbreviation</th>\n",
       "      <th></th>\n",
       "      <th></th>\n",
       "    </tr>\n",
       "  </thead>\n",
       "  <tbody>\n",
       "    <tr>\n",
       "      <th>AL</th>\n",
       "      <td>0.476823</td>\n",
       "      <td>0.195277</td>\n",
       "    </tr>\n",
       "    <tr>\n",
       "      <th>AR</th>\n",
       "      <td>0.464784</td>\n",
       "      <td>0.191924</td>\n",
       "    </tr>\n",
       "    <tr>\n",
       "      <th>AZ</th>\n",
       "      <td>0.478433</td>\n",
       "      <td>0.283867</td>\n",
       "    </tr>\n",
       "    <tr>\n",
       "      <th>CO</th>\n",
       "      <td>0.481016</td>\n",
       "      <td>NaN</td>\n",
       "    </tr>\n",
       "    <tr>\n",
       "      <th>FL</th>\n",
       "      <td>0.469349</td>\n",
       "      <td>0.242413</td>\n",
       "    </tr>\n",
       "    <tr>\n",
       "      <th>GA</th>\n",
       "      <td>0.493525</td>\n",
       "      <td>0.196939</td>\n",
       "    </tr>\n",
       "    <tr>\n",
       "      <th>IA</th>\n",
       "      <td>0.250003</td>\n",
       "      <td>0.090857</td>\n",
       "    </tr>\n",
       "    <tr>\n",
       "      <th>ID</th>\n",
       "      <td>0.494733</td>\n",
       "      <td>0.240773</td>\n",
       "    </tr>\n",
       "    <tr>\n",
       "      <th>IL</th>\n",
       "      <td>0.489632</td>\n",
       "      <td>0.242013</td>\n",
       "    </tr>\n",
       "    <tr>\n",
       "      <th>KY</th>\n",
       "      <td>NaN</td>\n",
       "      <td>0.245298</td>\n",
       "    </tr>\n",
       "    <tr>\n",
       "      <th>LA</th>\n",
       "      <td>0.451481</td>\n",
       "      <td>0.240803</td>\n",
       "    </tr>\n",
       "    <tr>\n",
       "      <th>MA</th>\n",
       "      <td>0.331875</td>\n",
       "      <td>0.193800</td>\n",
       "    </tr>\n",
       "    <tr>\n",
       "      <th>ME</th>\n",
       "      <td>0.450000</td>\n",
       "      <td>NaN</td>\n",
       "    </tr>\n",
       "    <tr>\n",
       "      <th>MI</th>\n",
       "      <td>0.487741</td>\n",
       "      <td>0.237265</td>\n",
       "    </tr>\n",
       "    <tr>\n",
       "      <th>MO</th>\n",
       "      <td>0.489403</td>\n",
       "      <td>0.243236</td>\n",
       "    </tr>\n",
       "    <tr>\n",
       "      <th>MS</th>\n",
       "      <td>0.493563</td>\n",
       "      <td>0.243344</td>\n",
       "    </tr>\n",
       "    <tr>\n",
       "      <th>NC</th>\n",
       "      <td>0.462404</td>\n",
       "      <td>0.242886</td>\n",
       "    </tr>\n",
       "    <tr>\n",
       "      <th>NE</th>\n",
       "      <td>0.489258</td>\n",
       "      <td>NaN</td>\n",
       "    </tr>\n",
       "    <tr>\n",
       "      <th>NH</th>\n",
       "      <td>0.500000</td>\n",
       "      <td>0.125000</td>\n",
       "    </tr>\n",
       "    <tr>\n",
       "      <th>NV</th>\n",
       "      <td>0.498559</td>\n",
       "      <td>0.199047</td>\n",
       "    </tr>\n",
       "    <tr>\n",
       "      <th>OH</th>\n",
       "      <td>0.492199</td>\n",
       "      <td>0.245074</td>\n",
       "    </tr>\n",
       "    <tr>\n",
       "      <th>OK</th>\n",
       "      <td>0.442500</td>\n",
       "      <td>0.196789</td>\n",
       "    </tr>\n",
       "    <tr>\n",
       "      <th>SC</th>\n",
       "      <td>0.496587</td>\n",
       "      <td>0.166649</td>\n",
       "    </tr>\n",
       "    <tr>\n",
       "      <th>TN</th>\n",
       "      <td>0.486037</td>\n",
       "      <td>0.195819</td>\n",
       "    </tr>\n",
       "    <tr>\n",
       "      <th>TX</th>\n",
       "      <td>0.479496</td>\n",
       "      <td>0.191347</td>\n",
       "    </tr>\n",
       "    <tr>\n",
       "      <th>UT</th>\n",
       "      <td>0.438103</td>\n",
       "      <td>0.333379</td>\n",
       "    </tr>\n",
       "    <tr>\n",
       "      <th>VA</th>\n",
       "      <td>0.496778</td>\n",
       "      <td>0.197768</td>\n",
       "    </tr>\n",
       "    <tr>\n",
       "      <th>VT</th>\n",
       "      <td>0.498591</td>\n",
       "      <td>0.193273</td>\n",
       "    </tr>\n",
       "  </tbody>\n",
       "</table>\n",
       "</div>"
      ],
      "text/plain": [
       "party               Democrat  Republican\n",
       "state_abbreviation                      \n",
       "AL                  0.476823    0.195277\n",
       "AR                  0.464784    0.191924\n",
       "AZ                  0.478433    0.283867\n",
       "CO                  0.481016         NaN\n",
       "FL                  0.469349    0.242413\n",
       "GA                  0.493525    0.196939\n",
       "IA                  0.250003    0.090857\n",
       "ID                  0.494733    0.240773\n",
       "IL                  0.489632    0.242013\n",
       "KY                       NaN    0.245298\n",
       "LA                  0.451481    0.240803\n",
       "MA                  0.331875    0.193800\n",
       "ME                  0.450000         NaN\n",
       "MI                  0.487741    0.237265\n",
       "MO                  0.489403    0.243236\n",
       "MS                  0.493563    0.243344\n",
       "NC                  0.462404    0.242886\n",
       "NE                  0.489258         NaN\n",
       "NH                  0.500000    0.125000\n",
       "NV                  0.498559    0.199047\n",
       "OH                  0.492199    0.245074\n",
       "OK                  0.442500    0.196789\n",
       "SC                  0.496587    0.166649\n",
       "TN                  0.486037    0.195819\n",
       "TX                  0.479496    0.191347\n",
       "UT                  0.438103    0.333379\n",
       "VA                  0.496778    0.197768\n",
       "VT                  0.498591    0.193273"
      ]
     },
     "execution_count": 36,
     "metadata": {},
     "output_type": "execute_result"
    }
   ],
   "source": [
    "primary.pivot_table(values=\"fraction_votes\", index=\"state_abbreviation\", columns=\"party\", aggfunc=\"mean\")"
   ]
  }
 ],
 "metadata": {
  "colab": {
   "name": "Pandas_데이터분석.ipynb",
   "provenance": []
  },
  "kernelspec": {
   "display_name": "Python 3",
   "language": "python",
   "name": "python3"
  },
  "language_info": {
   "codemirror_mode": {
    "name": "ipython",
    "version": 3
   },
   "file_extension": ".py",
   "mimetype": "text/x-python",
   "name": "python",
   "nbconvert_exporter": "python",
   "pygments_lexer": "ipython3",
   "version": "3.7.3"
  }
 },
 "nbformat": 4,
 "nbformat_minor": 1
}
